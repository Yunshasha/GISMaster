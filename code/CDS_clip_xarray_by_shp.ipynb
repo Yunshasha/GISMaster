{
 "cells": [
  {
   "cell_type": "code",
   "execution_count": 1,
   "id": "db5709d1-1ded-424e-bc4f-b6ec2fabee06",
   "metadata": {},
   "outputs": [],
   "source": [
    "import matplotlib.pyplot as plt\n",
    "import pandas as pd\n",
    "import geopandas as gpd\n",
    "import contextily as ctx\n",
    "import numpy as np\n",
    "import xarray as xr\n",
    "from shapely.geometry import mapping"
   ]
  },
  {
   "cell_type": "code",
   "execution_count": 2,
   "id": "dba93198-c0b6-44fa-b46d-0f8c26c4ace9",
   "metadata": {},
   "outputs": [],
   "source": [
    "path_rg = \"data/NUTS_RG_01M_2021_4326_LEVL_0.shp\"\n",
    "gdf_rg = gpd.read_file(path_rg)\n",
    "gdf_rg.crs = \"EPSG:4326\""
   ]
  },
  {
   "cell_type": "code",
   "execution_count": 3,
   "id": "e5a4f8c9-04a9-46ce-aa38-d5132188b033",
   "metadata": {},
   "outputs": [],
   "source": [
    "# import import numpy as np\n",
    "# import pandas as pd\n",
    "# import xarray as xr\n",
    "# import geojson\n",
    "# from shapely.geometry import mapping\n",
    "import getMean"
   ]
  },
  {
   "cell_type": "code",
   "execution_count": 4,
   "id": "b2f667b3-7bc3-45aa-80ef-d8363ec78984",
   "metadata": {},
   "outputs": [],
   "source": [
    "gdf_nation= gdf_rg[gdf_rg.CNTR_CODE == \"IT\"]\n",
    "area = gdf_nation.bounds\n",
    "bounds = gdf_nation.geometry.apply(mapping)\n",
    "NWSE_area = [list(area.maxy.values)[0],list(area.minx.values)[0],list(area.miny.values)[0],list(area.maxx.values)[0]]"
   ]
  },
  {
   "cell_type": "code",
   "execution_count": 5,
   "id": "60548b7e-f27c-4549-ad2a-4aa72d0d13b6",
   "metadata": {},
   "outputs": [
    {
     "data": {
      "text/plain": [
       "18    {'type': 'MultiPolygon', 'coordinates': [(((12...\n",
       "Name: geometry, dtype: object"
      ]
     },
     "execution_count": 5,
     "metadata": {},
     "output_type": "execute_result"
    }
   ],
   "source": [
    "bounds"
   ]
  },
  {
   "cell_type": "code",
   "execution_count": 6,
   "id": "7bb99710-a19f-4caa-985e-8781d88137f2",
   "metadata": {},
   "outputs": [
    {
     "data": {
      "text/plain": [
       "[47.091748, 6.627429, 35.493039, 18.519314]"
      ]
     },
     "execution_count": 6,
     "metadata": {},
     "output_type": "execute_result"
    }
   ],
   "source": [
    "NWSE_area"
   ]
  },
  {
   "cell_type": "code",
   "execution_count": 7,
   "id": "7d5ba1dd-1400-474f-ab13-01fdbebb5b7c",
   "metadata": {},
   "outputs": [
    {
     "name": "stderr",
     "output_type": "stream",
     "text": [
      "2022-07-20 22:32:12,722 INFO Welcome to the CDS\n",
      "2022-07-20 22:32:12,722 INFO Sending request to https://ads.atmosphere.copernicus.eu/api/v2/resources/cams-europe-air-quality-forecasts\n",
      "2022-07-20 22:32:12,802 INFO Request is queued\n",
      "2022-07-20 22:32:14,514 INFO Request is running\n",
      "2022-07-20 22:32:18,816 INFO Request is completed\n",
      "2022-07-20 22:32:18,816 INFO Downloading https://download-0001-ads-clone.copernicus-climate.eu/cache-compute-0001/cache/data4/adaptor.cams_regional_fc.retrieve-1658349139.1249452-31823-8-e0adb141-238d-4291-9954-074b05a9aad1.nc to download.nc (1.3M)\n",
      "2022-07-20 22:32:44,705 INFO Download rate 50.1K/s                                                                     \n"
     ]
    }
   ],
   "source": [
    "ds_name = 'cams-europe-air-quality-forecasts'\n",
    "ds_time = '2022-01-01/2022-01-01'\n",
    "ds_variable = 'carbon_monoxide'    \n",
    "ds_area = NWSE_area\n",
    "ds_bounds = bounds\n",
    "\n",
    "[mean_data, latitude, longitude, rdata]= getMean.get_mean(ds_name=ds_name, ds_time=ds_time, ds_variable=ds_variable,ds_area=ds_area,ds_bounds=ds_bounds)"
   ]
  },
  {
   "cell_type": "code",
   "execution_count": 9,
   "id": "dbacfd0e-8d33-49f0-86d1-a4bf62b6e212",
   "metadata": {},
   "outputs": [],
   "source": [
    "pd.DataFrame(mean_data).to_csv(\"clipped23.csv\")"
   ]
  },
  {
   "cell_type": "code",
   "execution_count": 10,
   "id": "a4fb0fc7-fe80-4157-86ff-0bd2c955e980",
   "metadata": {},
   "outputs": [
    {
     "name": "stdout",
     "output_type": "stream",
     "text": [
      "232.42482\n"
     ]
    },
    {
     "data": {
      "text/plain": [
       "numpy.float32"
      ]
     },
     "execution_count": 10,
     "metadata": {},
     "output_type": "execute_result"
    }
   ],
   "source": [
    "mean_country = np.nanmean(mean_data)\n",
    "print(mean_country)\n",
    "type(mean_country)"
   ]
  },
  {
   "cell_type": "code",
   "execution_count": 12,
   "id": "4d396870-0792-4722-a2c3-e4b22e2eef66",
   "metadata": {},
   "outputs": [
    {
     "data": {
      "text/plain": [
       "232.42481994628906"
      ]
     },
     "execution_count": 12,
     "metadata": {},
     "output_type": "execute_result"
    }
   ],
   "source": [
    "mean_country.tolist()"
   ]
  },
  {
   "cell_type": "code",
   "execution_count": null,
   "id": "61dddbe6-e220-4f0f-a96d-91b9138d8dc1",
   "metadata": {},
   "outputs": [],
   "source": []
  }
 ],
 "metadata": {
  "kernelspec": {
   "display_name": "Python 3.7.12 ('GIS')",
   "language": "python",
   "name": "python3"
  },
  "language_info": {
   "codemirror_mode": {
    "name": "ipython",
    "version": 3
   },
   "file_extension": ".py",
   "mimetype": "text/x-python",
   "name": "python",
   "nbconvert_exporter": "python",
   "pygments_lexer": "ipython3",
   "version": "3.7.12"
  },
  "vscode": {
   "interpreter": {
    "hash": "fe0c7199ac1f356cf71a5ba2da674f22dd30f91cd8d4dbe0572c3152018277d1"
   }
  }
 },
 "nbformat": 4,
 "nbformat_minor": 5
}
