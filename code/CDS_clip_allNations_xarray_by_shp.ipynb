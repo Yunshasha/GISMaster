{
 "cells": [
  {
   "cell_type": "code",
   "execution_count": 20,
   "id": "db5709d1-1ded-424e-bc4f-b6ec2fabee06",
   "metadata": {},
   "outputs": [],
   "source": [
    "import matplotlib.pyplot as plt\n",
    "import pandas as pd\n",
    "import geopandas as gpd\n",
    "import contextily as ctx\n",
    "import numpy as np\n",
    "import xarray as xr\n",
    "from shapely.geometry import mapping\n",
    "import json"
   ]
  },
  {
   "cell_type": "code",
   "execution_count": 2,
   "id": "dba93198-c0b6-44fa-b46d-0f8c26c4ace9",
   "metadata": {},
   "outputs": [],
   "source": [
    "path_rg = \"data/NUTS_RG_01M_2021_4326_LEVL_0.shp\"\n",
    "gdf_rg = gpd.read_file(path_rg)\n",
    "gdf_rg.crs = \"EPSG:4326\""
   ]
  },
  {
   "cell_type": "code",
   "execution_count": 3,
   "id": "598abef0-f003-466a-85d3-91fe58de16f5",
   "metadata": {},
   "outputs": [],
   "source": [
    "# gdf_rg"
   ]
  },
  {
   "cell_type": "code",
   "execution_count": 4,
   "id": "e5a4f8c9-04a9-46ce-aa38-d5132188b033",
   "metadata": {},
   "outputs": [],
   "source": [
    "# import import numpy as np\n",
    "# import pandas as pd\n",
    "# import xarray as xr\n",
    "# import geojson\n",
    "# from shapely.geometry import mapping\n",
    "import getMean"
   ]
  },
  {
   "cell_type": "code",
   "execution_count": 5,
   "id": "1aaa8ebe-1828-4949-96e8-8578fe833bfd",
   "metadata": {},
   "outputs": [
    {
     "data": {
      "text/plain": [
       "array(['CZ', 'DE', 'DK', 'AL', 'CY', 'BG', 'AT', 'BE', 'EE', 'EL', 'ES',\n",
       "       'FI', 'FR', 'HR', 'CH', 'HU', 'IE', 'IS', 'IT', 'LV', 'ME', 'MT',\n",
       "       'MK', 'LT', 'LU', 'NL', 'NO', 'SI', 'LI', 'PL', 'RS', 'SE', 'SK',\n",
       "       'TR', 'UK', 'PT', 'RO'], dtype=object)"
      ]
     },
     "execution_count": 5,
     "metadata": {},
     "output_type": "execute_result"
    }
   ],
   "source": [
    "cntr_code_list = gdf_rg.CNTR_CODE.values\n",
    "cntr_code_list"
   ]
  },
  {
   "cell_type": "code",
   "execution_count": 6,
   "id": "b2f667b3-7bc3-45aa-80ef-d8363ec78984",
   "metadata": {},
   "outputs": [],
   "source": [
    "bounds_list = []\n",
    "for i in range(0,len(cntr_code_list)):\n",
    "    gdf_nation= gdf_rg[gdf_rg.CNTR_CODE == cntr_code_list[i]]\n",
    "    bounds = gdf_nation.geometry.apply(mapping).values\n",
    "    bounds_list.append(bounds)"
   ]
  },
  {
   "cell_type": "code",
   "execution_count": 7,
   "id": "60548b7e-f27c-4549-ad2a-4aa72d0d13b6",
   "metadata": {},
   "outputs": [],
   "source": [
    "# bounds_list[0]"
   ]
  },
  {
   "cell_type": "code",
   "execution_count": 8,
   "id": "7d5ba1dd-1400-474f-ab13-01fdbebb5b7c",
   "metadata": {},
   "outputs": [],
   "source": [
    "ds_name = 'cams-europe-air-quality-forecasts'\n",
    "ds_time = '2020-01-01/2020-01-01'\n",
    "ds_variable = 'carbon_monoxide'    \n",
    "ds_bounds_list = bounds_list\n",
    "\n",
    "[mean_data_list,fName] = getMean.get_mean_europe(ds_name=ds_name, ds_time=ds_time, ds_variable=ds_variable,ds_bounds_list=ds_bounds_list)"
   ]
  },
  {
   "cell_type": "code",
   "execution_count": 9,
   "id": "f8ea10c4-7143-42f2-9047-4c0631ff805a",
   "metadata": {},
   "outputs": [
    {
     "data": {
      "text/plain": [
       "list"
      ]
     },
     "execution_count": 9,
     "metadata": {},
     "output_type": "execute_result"
    }
   ],
   "source": [
    "type(mean_data_list)"
   ]
  },
  {
   "cell_type": "code",
   "execution_count": 10,
   "id": "833f1e5e-5721-44c6-9233-f0796fb1301f",
   "metadata": {},
   "outputs": [
    {
     "data": {
      "text/plain": [
       "[200.70004,\n",
       " 207.88283,\n",
       " 150.29213,\n",
       " 165.03545,\n",
       " 165.30327,\n",
       " 173.88115,\n",
       " 191.76245,\n",
       " 217.10756,\n",
       " 140.28229,\n",
       " 165.88234,\n",
       " 156.6378,\n",
       " 132.69014,\n",
       " 193.84395,\n",
       " 202.75502,\n",
       " 158.08624,\n",
       " 218.27698,\n",
       " 138.86389,\n",
       " 125.44968,\n",
       " 236.47649,\n",
       " 138.88036,\n",
       " 156.4795,\n",
       " 155.69818,\n",
       " 176.49467,\n",
       " 142.28807,\n",
       " 234.075,\n",
       " 276.5649,\n",
       " 124.98187,\n",
       " 236.76189,\n",
       " 156.53549,\n",
       " 180.18538,\n",
       " 207.64465,\n",
       " 128.42284,\n",
       " 175.49371,\n",
       " 171.25835,\n",
       " 189.40828,\n",
       " 173.11195,\n",
       " 174.44226]"
      ]
     },
     "execution_count": 10,
     "metadata": {},
     "output_type": "execute_result"
    }
   ],
   "source": [
    "mean_data_list"
   ]
  },
  {
   "cell_type": "code",
   "execution_count": 11,
   "id": "62ea1ddd-d6c9-497c-a3fc-7c60d8ca7505",
   "metadata": {},
   "outputs": [
    {
     "data": {
      "text/plain": [
       "numpy.ndarray"
      ]
     },
     "execution_count": 11,
     "metadata": {},
     "output_type": "execute_result"
    }
   ],
   "source": [
    "type(cntr_code_list)"
   ]
  },
  {
   "cell_type": "code",
   "execution_count": 12,
   "id": "77ee6886-97ff-490e-8e7a-89665eb145cb",
   "metadata": {},
   "outputs": [
    {
     "data": {
      "text/plain": [
       "array(['CZ', 'DE', 'DK', 'AL', 'CY', 'BG', 'AT', 'BE', 'EE', 'EL', 'ES',\n",
       "       'FI', 'FR', 'HR', 'CH', 'HU', 'IE', 'IS', 'IT', 'LV', 'ME', 'MT',\n",
       "       'MK', 'LT', 'LU', 'NL', 'NO', 'SI', 'LI', 'PL', 'RS', 'SE', 'SK',\n",
       "       'TR', 'UK', 'PT', 'RO'], dtype=object)"
      ]
     },
     "execution_count": 12,
     "metadata": {},
     "output_type": "execute_result"
    }
   ],
   "source": [
    "cntr_code_list"
   ]
  },
  {
   "cell_type": "code",
   "execution_count": 13,
   "id": "100351d2-ee94-4dfb-8473-7876930a3674",
   "metadata": {},
   "outputs": [],
   "source": [
    "data_list = {}\n",
    "data2 = {}\n",
    "\n",
    "for i in range(len(cntr_code_list)):\n",
    "    data2[cntr_code_list[i]] = str(mean_data_list[i])\n",
    "\n"
   ]
  },
  {
   "cell_type": "code",
   "execution_count": 14,
   "id": "754dff10-9663-45c0-8912-b393092b1600",
   "metadata": {},
   "outputs": [
    {
     "data": {
      "text/plain": [
       "{'CZ': '200.70004',\n",
       " 'DE': '207.88283',\n",
       " 'DK': '150.29213',\n",
       " 'AL': '165.03545',\n",
       " 'CY': '165.30327',\n",
       " 'BG': '173.88115',\n",
       " 'AT': '191.76245',\n",
       " 'BE': '217.10756',\n",
       " 'EE': '140.28229',\n",
       " 'EL': '165.88234',\n",
       " 'ES': '156.6378',\n",
       " 'FI': '132.69014',\n",
       " 'FR': '193.84395',\n",
       " 'HR': '202.75502',\n",
       " 'CH': '158.08624',\n",
       " 'HU': '218.27698',\n",
       " 'IE': '138.86389',\n",
       " 'IS': '125.44968',\n",
       " 'IT': '236.47649',\n",
       " 'LV': '138.88036',\n",
       " 'ME': '156.4795',\n",
       " 'MT': '155.69818',\n",
       " 'MK': '176.49467',\n",
       " 'LT': '142.28807',\n",
       " 'LU': '234.075',\n",
       " 'NL': '276.5649',\n",
       " 'NO': '124.98187',\n",
       " 'SI': '236.76189',\n",
       " 'LI': '156.53549',\n",
       " 'PL': '180.18538',\n",
       " 'RS': '207.64465',\n",
       " 'SE': '128.42284',\n",
       " 'SK': '175.49371',\n",
       " 'TR': '171.25835',\n",
       " 'UK': '189.40828',\n",
       " 'PT': '173.11195',\n",
       " 'RO': '174.44226'}"
      ]
     },
     "execution_count": 14,
     "metadata": {},
     "output_type": "execute_result"
    }
   ],
   "source": [
    "data2"
   ]
  },
  {
   "cell_type": "code",
   "execution_count": 21,
   "id": "a51a97ae-07c0-41f4-88ff-d47412d0802a",
   "metadata": {},
   "outputs": [],
   "source": [
    "data_list = json.dumps({'allConcentration': data2})"
   ]
  },
  {
   "cell_type": "code",
   "execution_count": 22,
   "id": "46acc800-6cb7-4d3e-8189-f2f5b7e46613",
   "metadata": {},
   "outputs": [
    {
     "data": {
      "text/plain": [
       "'{\"allConcentration\": {\"CZ\": \"200.70004\", \"DE\": \"207.88283\", \"DK\": \"150.29213\", \"AL\": \"165.03545\", \"CY\": \"165.30327\", \"BG\": \"173.88115\", \"AT\": \"191.76245\", \"BE\": \"217.10756\", \"EE\": \"140.28229\", \"EL\": \"165.88234\", \"ES\": \"156.6378\", \"FI\": \"132.69014\", \"FR\": \"193.84395\", \"HR\": \"202.75502\", \"CH\": \"158.08624\", \"HU\": \"218.27698\", \"IE\": \"138.86389\", \"IS\": \"125.44968\", \"IT\": \"236.47649\", \"LV\": \"138.88036\", \"ME\": \"156.4795\", \"MT\": \"155.69818\", \"MK\": \"176.49467\", \"LT\": \"142.28807\", \"LU\": \"234.075\", \"NL\": \"276.5649\", \"NO\": \"124.98187\", \"SI\": \"236.76189\", \"LI\": \"156.53549\", \"PL\": \"180.18538\", \"RS\": \"207.64465\", \"SE\": \"128.42284\", \"SK\": \"175.49371\", \"TR\": \"171.25835\", \"UK\": \"189.40828\", \"PT\": \"173.11195\", \"RO\": \"174.44226\"}}'"
      ]
     },
     "execution_count": 22,
     "metadata": {},
     "output_type": "execute_result"
    }
   ],
   "source": [
    "data_list"
   ]
  },
  {
   "cell_type": "code",
   "execution_count": 23,
   "id": "bfd5cdfa-68ad-48d3-b71e-f00e12a85994",
   "metadata": {},
   "outputs": [
    {
     "ename": "AttributeError",
     "evalue": "'str' object has no attribute 'allConcentration'",
     "output_type": "error",
     "traceback": [
      "\u001b[1;31m---------------------------------------------------------------------------\u001b[0m",
      "\u001b[1;31mAttributeError\u001b[0m                            Traceback (most recent call last)",
      "\u001b[1;32m~\\AppData\\Local\\Temp\\ipykernel_13272\\3334993499.py\u001b[0m in \u001b[0;36m<module>\u001b[1;34m\u001b[0m\n\u001b[1;32m----> 1\u001b[1;33m \u001b[0mdata_list\u001b[0m\u001b[1;33m.\u001b[0m\u001b[0mallConcentration\u001b[0m\u001b[1;33m\u001b[0m\u001b[1;33m\u001b[0m\u001b[0m\n\u001b[0m",
      "\u001b[1;31mAttributeError\u001b[0m: 'str' object has no attribute 'allConcentration'"
     ]
    }
   ],
   "source": [
    "data_list.allConcentration"
   ]
  },
  {
   "cell_type": "code",
   "execution_count": null,
   "id": "0e3fa7d2-c657-4e88-b95f-c9baccee29ee",
   "metadata": {},
   "outputs": [],
   "source": []
  }
 ],
 "metadata": {
  "kernelspec": {
   "display_name": "Python 3 (ipykernel)",
   "language": "python",
   "name": "python3"
  },
  "language_info": {
   "codemirror_mode": {
    "name": "ipython",
    "version": 3
   },
   "file_extension": ".py",
   "mimetype": "text/x-python",
   "name": "python",
   "nbconvert_exporter": "python",
   "pygments_lexer": "ipython3",
   "version": "3.7.12"
  }
 },
 "nbformat": 4,
 "nbformat_minor": 5
}
